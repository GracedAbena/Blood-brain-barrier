{
  "nbformat": 4,
  "nbformat_minor": 0,
  "metadata": {
    "colab": {
      "name": "Reinvent.ipynb",
      "provenance": [],
      "authorship_tag": "ABX9TyM7i9LBZaf1zeS2i/4Ry9uD",
      "include_colab_link": true
    },
    "kernelspec": {
      "name": "python3",
      "display_name": "Python 3"
    },
    "language_info": {
      "name": "python"
    },
    "accelerator": "GPU",
    "gpuClass": "standard"
  },
  "cells": [
    {
      "cell_type": "markdown",
      "metadata": {
        "id": "view-in-github",
        "colab_type": "text"
      },
      "source": [
        "<a href=\"https://colab.research.google.com/github/GracedAbena/Blood-brain-barrier/blob/main/Reinvent.ipynb\" target=\"_parent\"><img src=\"https://colab.research.google.com/assets/colab-badge.svg\" alt=\"Open In Colab\"/></a>"
      ]
    },
    {
      "cell_type": "code",
      "execution_count": 1,
      "metadata": {
        "colab": {
          "base_uri": "https://localhost:8080/"
        },
        "id": "jR0Ug0QJgysH",
        "outputId": "72b68721-6752-4ca4-fb53-d0896dd70237"
      },
      "outputs": [
        {
          "output_type": "stream",
          "name": "stdout",
          "text": [
            "Looking in indexes: https://pypi.org/simple, https://us-python.pkg.dev/colab-wheels/public/simple/\n",
            "Collecting wget\n",
            "  Downloading wget-3.2.zip (10 kB)\n",
            "Building wheels for collected packages: wget\n",
            "  Building wheel for wget (setup.py) ... \u001b[?25l\u001b[?25hdone\n",
            "  Created wheel for wget: filename=wget-3.2-py3-none-any.whl size=9675 sha256=912c6c082e2a020d3aecbff62a020c56b5101daaa839ecaf834dd643f05bcda9\n",
            "  Stored in directory: /root/.cache/pip/wheels/a1/b6/7c/0e63e34eb06634181c63adacca38b79ff8f35c37e3c13e3c02\n",
            "Successfully built wget\n",
            "Installing collected packages: wget\n",
            "Successfully installed wget-3.2\n",
            "/bin/bash: -c: line 0: syntax error near unexpected token `('\n",
            "/bin/bash: -c: line 0: `git clone(\"https://github.com/MolecularAI/Reinvent.git\")'\n"
          ]
        }
      ],
      "source": [
        "!pip install wget\n",
        "import wget, tarfile\n",
        "import os\n",
        "#wget.download(\"https://github.com/MolecularAI/Reinvent.git\")\n",
        "#!unzip Reinvent.git\n",
        "!git clone(\"https://github.com/MolecularAI/Reinvent.git\")"
      ]
    },
    {
      "cell_type": "code",
      "source": [
        ""
      ],
      "metadata": {
        "id": "suLfjeonhTQ0"
      },
      "execution_count": null,
      "outputs": []
    }
  ]
}